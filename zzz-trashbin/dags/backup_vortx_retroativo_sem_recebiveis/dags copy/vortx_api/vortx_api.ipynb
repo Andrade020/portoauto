{
 "cells": [
  {
   "cell_type": "code",
   "execution_count": 24,
   "id": "05331c15-89d1-4951-a3da-e03a2f4eda33",
   "metadata": {},
   "outputs": [],
   "source": [
    "import requests, json"
   ]
  },
  {
   "cell_type": "code",
   "execution_count": 25,
   "id": "3c218e50-e71d-4b65-8fd0-c28f75d93b65",
   "metadata": {},
   "outputs": [],
   "source": [
    "import os"
   ]
  },
  {
   "cell_type": "code",
   "execution_count": 26,
   "id": "95fc8a0b-5ae3-43ee-a97b-924c854daab9",
   "metadata": {},
   "outputs": [],
   "source": [
    "current_path = os.getcwd()"
   ]
  },
  {
   "cell_type": "code",
   "execution_count": 27,
   "id": "05bb460e-b896-4e94-8083-c93c27824fa0",
   "metadata": {},
   "outputs": [],
   "source": [
    "base_config_path = os.path.join(*current_path.split('/')[:-1], \"common\", \"common.cfg\")"
   ]
  },
  {
   "cell_type": "code",
   "execution_count": 31,
   "id": "05c29a11-6d27-48c1-9f18-5485ac9efc70",
   "metadata": {},
   "outputs": [
    {
     "ename": "ModuleNotFoundError",
     "evalue": "No module named 'common'",
     "output_type": "error",
     "traceback": [
      "\u001b[0;31m---------------------------------------------------------------------------\u001b[0m",
      "\u001b[0;31mModuleNotFoundError\u001b[0m                       Traceback (most recent call last)",
      "Cell \u001b[0;32mIn[31], line 1\u001b[0m\n\u001b[0;32m----> 1\u001b[0m \u001b[38;5;28;01mfrom\u001b[39;00m \u001b[38;5;21;01mcommon\u001b[39;00m \u001b[38;5;28;01mimport\u001b[39;00m common\n",
      "\u001b[0;31mModuleNotFoundError\u001b[0m: No module named 'common'"
     ]
    }
   ],
   "source": [
    "from common import common"
   ]
  },
  {
   "cell_type": "code",
   "execution_count": 29,
   "id": "6de92129-b6cb-412e-aed0-ced89873720c",
   "metadata": {},
   "outputs": [],
   "source": [
    "import urllib"
   ]
  },
  {
   "cell_type": "code",
   "execution_count": 21,
   "id": "0a802fc7-6a1e-48de-8c6e-1ecd8944db56",
   "metadata": {},
   "outputs": [],
   "source": [
    "# def get_url(base_url, endpoint):\n",
    "#     from urllib.parse import urljoin\n",
    "#     return urljoin(base_url, endpoint)\n"
   ]
  },
  {
   "cell_type": "code",
   "execution_count": 23,
   "id": "4704afd0-76a8-4549-8c9e-153e23ce38ee",
   "metadata": {},
   "outputs": [
    {
     "data": {
      "text/plain": [
       "'111'"
      ]
     },
     "execution_count": 23,
     "metadata": {},
     "output_type": "execute_result"
    }
   ],
   "source": [
    "str(\"111\")"
   ]
  }
 ],
 "metadata": {
  "kernelspec": {
   "display_name": "Python 3 (ipykernel)",
   "language": "python",
   "name": "python3"
  },
  "language_info": {
   "codemirror_mode": {
    "name": "ipython",
    "version": 3
   },
   "file_extension": ".py",
   "mimetype": "text/x-python",
   "name": "python",
   "nbconvert_exporter": "python",
   "pygments_lexer": "ipython3",
   "version": "3.10.12"
  }
 },
 "nbformat": 4,
 "nbformat_minor": 5
}
